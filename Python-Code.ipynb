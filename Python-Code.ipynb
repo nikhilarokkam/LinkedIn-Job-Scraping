{
 "cells": [
  {
   "cell_type": "code",
   "execution_count": 3,
   "id": "e91ae008",
   "metadata": {},
   "outputs": [],
   "source": [
    "#Import Packages\n",
    "from selenium import webdriver \n",
    "import time\n",
    "import pandas as pd\n",
    "import os"
   ]
  },
  {
   "cell_type": "code",
   "execution_count": 4,
   "id": "b6049827",
   "metadata": {},
   "outputs": [],
   "source": [
    "#Import Packages\n",
    "\n",
    "from selenium.webdriver.support.select import Select\n",
    "from selenium.webdriver.support.ui import WebDriverWait\n",
    "from selenium.webdriver.common.by import By\n",
    "from selenium.webdriver.support import expected_conditions as EC"
   ]
  },
  {
   "cell_type": "code",
   "execution_count": 5,
   "id": "d2fa2434",
   "metadata": {},
   "outputs": [],
   "source": [
    "#Use this Url and change city or role accordingly\n",
    "\n",
    "url1='https://www.linkedin.com/jobs/search?keywords=Marketing%20Data%20Analyst&location=Berlin%2C%20Berlin%2C%20Germany&geoId=106967730&trk=public_jobs_jobs-search-bar_search-submit&position=1&pageNum=0'"
   ]
  },
  {
   "cell_type": "code",
   "execution_count": 15,
   "id": "84b67105",
   "metadata": {},
   "outputs": [],
   "source": [
    "#Load the web driver and get the url\n",
    "\n",
    "driver = webdriver.Chrome(executable_path=r'C:\\Users\\Admin\\Downloads\\chromedriver-win64\\chromedriver-win64\\chromedriver.exe')\n",
    "driver.implicitly_wait(10)\n",
    "driver.get(url1)"
   ]
  },
  {
   "cell_type": "code",
   "execution_count": 8,
   "id": "f215f6b5",
   "metadata": {},
   "outputs": [],
   "source": [
    "#Find number of job listings\n",
    "\n",
    "y=driver.find_elements_by_class_name('results-context-header__job-count')[0].text"
   ]
  },
  {
   "cell_type": "code",
   "execution_count": 16,
   "id": "8dc9383b",
   "metadata": {},
   "outputs": [
    {
     "data": {
      "text/plain": [
       "'151'"
      ]
     },
     "execution_count": 16,
     "metadata": {},
     "output_type": "execute_result"
    }
   ],
   "source": [
    "y"
   ]
  },
  {
   "cell_type": "code",
   "execution_count": 17,
   "id": "31632c2e",
   "metadata": {},
   "outputs": [
    {
     "data": {
      "text/plain": [
       "str"
      ]
     },
     "execution_count": 17,
     "metadata": {},
     "output_type": "execute_result"
    }
   ],
   "source": [
    "type(y)"
   ]
  },
  {
   "cell_type": "code",
   "execution_count": 11,
   "id": "c6c09bf4",
   "metadata": {},
   "outputs": [
    {
     "data": {
      "text/plain": [
       "151"
      ]
     },
     "execution_count": 11,
     "metadata": {},
     "output_type": "execute_result"
    }
   ],
   "source": [
    "n=pd.to_numeric(y)\n",
    "n"
   ]
  },
  {
   "cell_type": "code",
   "execution_count": 19,
   "id": "912efd52",
   "metadata": {},
   "outputs": [],
   "source": [
    "#Loop to scroll through all jobs and click on see more jobs button for infinite scrolling\n",
    "i = 2\n",
    "while i <= 16: \n",
    "    driver.execute_script(\"window.scrollTo(0, document.body.scrollHeight);\")\n",
    "    i = i + 1\n",
    "    \n",
    "    try:\n",
    "        send=driver.find_element_by_xpath(\"//button[@aria-label='Load more results']\")\n",
    "        driver.execute_script(\"arguments[0].click();\", send)   \n",
    "        time.sleep(3)        \n",
    "    except:\n",
    "        pass\n",
    "        time.sleep(4)"
   ]
  },
  {
   "cell_type": "code",
   "execution_count": 20,
   "id": "d75b30d8",
   "metadata": {},
   "outputs": [],
   "source": [
    "#Create empty lists for company name and job title\n",
    "\n",
    "companyname= []\n",
    "titlename= []"
   ]
  },
  {
   "cell_type": "code",
   "execution_count": 21,
   "id": "dedd2f21",
   "metadata": {},
   "outputs": [
    {
     "name": "stdout",
     "output_type": "stream",
     "text": [
      "no\n"
     ]
    }
   ],
   "source": [
    "#Find company name and append it to the blank list\n",
    "try:\n",
    "    for i in range(n):\n",
    "        company=driver.find_elements_by_class_name('base-search-card__subtitle')[i].text\n",
    "        companyname.append(company)  \n",
    "except IndexError:\n",
    "    print(\"no\") "
   ]
  },
  {
   "cell_type": "code",
   "execution_count": 22,
   "id": "0a48d1fe",
   "metadata": {},
   "outputs": [
    {
     "data": {
      "text/plain": [
       "['Lovehoney Group',\n",
       " 'Puffy',\n",
       " 'hello.de',\n",
       " 'Caseking GmbH',\n",
       " 'Peak Ace AG',\n",
       " 'Peak Ace AG',\n",
       " 'Omio',\n",
       " 'Capgemini',\n",
       " 'Bolt',\n",
       " 'Aeyde',\n",
       " 'Lovehoney Group',\n",
       " 'igefa E-Commerce GmbH & Co. KG',\n",
       " 'DCI Digital Career Institute',\n",
       " 'TUI',\n",
       " 'MYNE',\n",
       " 'IKEA',\n",
       " 'flaconi',\n",
       " 'Workwise',\n",
       " 'GAS German Aviation Service',\n",
       " 'Odoo',\n",
       " 'InterEx Group',\n",
       " 'ImmoScout24',\n",
       " 'Contorion',\n",
       " 'Scout24 Group',\n",
       " 'MediaMarktSaturn',\n",
       " 'Deutsche Bahn',\n",
       " 'Agoda',\n",
       " 'Deutsche Rentenversicherung Bund',\n",
       " 'Moyyn',\n",
       " 'Saxovent',\n",
       " 'GAS German Aviation Service GmbH',\n",
       " 'ImmoScout24',\n",
       " 'DEVK Versicherungen',\n",
       " 'GAS German Aviation Service GmbH',\n",
       " 'Freiberger Lebensmittel GmbH',\n",
       " 'IU International University of Applied Sciences',\n",
       " 'CBTW',\n",
       " 'Cobblestone Energy',\n",
       " 'Verve Group',\n",
       " 'Vonovia',\n",
       " 'CBTW',\n",
       " 'CBTW',\n",
       " ']init[ - Services for the eSociety',\n",
       " ']init[ - Services for the eSociety',\n",
       " 'CBTW',\n",
       " 'home24 SE',\n",
       " 'Engel & Völkers Commercial Berlin',\n",
       " 'interim Group',\n",
       " 'GotPhoto.com | fotograf.de',\n",
       " 'Halian',\n",
       " 'AOK Systems GmbH',\n",
       " 'powercloud GmbH',\n",
       " 'AOK Systems GmbH',\n",
       " 'Verivox GmbH',\n",
       " 'IU International University of Applied Sciences',\n",
       " 'Tesla',\n",
       " 'DIGITALL',\n",
       " 'publicplan GmbH',\n",
       " 'Vodafone',\n",
       " 'Verivox GmbH',\n",
       " 'GAS German Aviation Service',\n",
       " 'IU International University of Applied Sciences',\n",
       " 'NEW YORKER',\n",
       " '50Hertz Transmission GmbH',\n",
       " 'EY',\n",
       " 'Gesellschaft zur Verwertung von Leistungsschutzrechten mbH',\n",
       " 'Vodafone',\n",
       " 'IU International University of Applied Sciences',\n",
       " 'GASAG Gruppe',\n",
       " 'BavariaDirekt',\n",
       " 'IU International University of Applied Sciences',\n",
       " 'msg for banking ag',\n",
       " 'IU International University of Applied Sciences',\n",
       " '50Hertz Transmission GmbH',\n",
       " 'home24 SE',\n",
       " 'IU International University of Applied Sciences',\n",
       " 'Grafton Recruitment',\n",
       " 'GAS German Aviation Service',\n",
       " 'IU International University of Applied Sciences',\n",
       " 'adesso insurance solutions GmbH',\n",
       " 'Michael Page',\n",
       " 'zeb consulting',\n",
       " 'Interhyp Gruppe',\n",
       " 'abl solutions GmbH',\n",
       " 'JLL',\n",
       " 'BWI GmbH',\n",
       " 'IU International University of Applied Sciences',\n",
       " 'NTT DATA DACH',\n",
       " 'IU International University of Applied Sciences',\n",
       " 'IU International University of Applied Sciences',\n",
       " 'Amadeus FiRe',\n",
       " 'Amadeus FiRe',\n",
       " 'IU International University of Applied Sciences',\n",
       " 'adesso insurance solutions GmbH',\n",
       " 'IU International University of Applied Sciences',\n",
       " 'Grafton Recruitment',\n",
       " 'KPMG Deutschland',\n",
       " 'GAS German Aviation Service GmbH',\n",
       " 'GAS German Aviation Service GmbH',\n",
       " 'IU International University of Applied Sciences',\n",
       " 'NTT DATA DACH',\n",
       " 'Deloitte',\n",
       " 'CGI',\n",
       " 'GetYourGuide',\n",
       " 'Avea Life',\n",
       " 'JustPlay',\n",
       " 'Primal State Performance GmbH',\n",
       " 'Kolibri Games',\n",
       " 'Linearity',\n",
       " 'VielfaltMenü GmbH',\n",
       " 'Robert Half',\n",
       " 'Maximon - The Longevity Company Builder',\n",
       " 'Urban Sports Club',\n",
       " 'AirHelp',\n",
       " 'Energy Jobline',\n",
       " 'DR. KADE Health Care',\n",
       " 'Energy Jobline',\n",
       " 'Ing.ges. BBP Bauconsulting GmbH',\n",
       " 'DR. KADE Pharmazeutische Fabrik GmbH',\n",
       " 'Ing.ges. BBP Bauconsulting GmbH',\n",
       " 'msg',\n",
       " 'Ing.ges. BBP Bauconsulting GmbH',\n",
       " 'ChannelEngine',\n",
       " 'BWI GmbH',\n",
       " 'ProPotsdam GmbH',\n",
       " 'IU International University of Applied Sciences',\n",
       " 'Deutsche Bahn',\n",
       " 'Capgemini',\n",
       " 'Ing.ges. BBP Bauconsulting GmbH',\n",
       " 'Ing.ges. BBP Bauconsulting GmbH',\n",
       " 'Diehl Metall']"
      ]
     },
     "execution_count": 22,
     "metadata": {},
     "output_type": "execute_result"
    }
   ],
   "source": [
    "companyname"
   ]
  },
  {
   "cell_type": "code",
   "execution_count": 24,
   "id": "285db98c",
   "metadata": {},
   "outputs": [
    {
     "data": {
      "text/plain": [
       "131"
      ]
     },
     "execution_count": 24,
     "metadata": {},
     "output_type": "execute_result"
    }
   ],
   "source": [
    "len(companyname)"
   ]
  },
  {
   "cell_type": "code",
   "execution_count": 25,
   "id": "a327dd6a",
   "metadata": {},
   "outputs": [
    {
     "name": "stdout",
     "output_type": "stream",
     "text": [
      "no\n"
     ]
    }
   ],
   "source": [
    "#Find title name and append it to the blank list\n",
    "try:\n",
    "    for i in range(n):\n",
    "        title=driver.find_elements_by_class_name('base-search-card__title')[i].text\n",
    "        titlename.append(title)   \n",
    "except IndexError:\n",
    "    print(\"no\")"
   ]
  },
  {
   "cell_type": "code",
   "execution_count": 26,
   "id": "4be149f3",
   "metadata": {},
   "outputs": [
    {
     "data": {
      "text/plain": [
       "['Data Analyst, Consumer Marketing',\n",
       " 'Senior Data Analyst (Get a 30% salary increase & Pay 0% Tax)',\n",
       " 'Werkstudent/ Praktikant - Business Intelligence | Reporting | Business Analysis',\n",
       " 'Junior Group Performance Marketing Analyst',\n",
       " 'Digital Analyst (m/w/d)',\n",
       " 'Junior Digital Analyst (m/w/d)',\n",
       " 'Marketing Analyst (d / f / m)',\n",
       " 'Business Analyst Data & AI Life Sciences (w/m/d)',\n",
       " 'Senior Data Analyst, Business Analytics & Commercial (Delivery), Relocation to Tallinn',\n",
       " 'Marketing Analyst (m/f/d)',\n",
       " 'Business Analyst (eCommerce)',\n",
       " 'Business Analyst / Controller - E-Commerce (m/w/d)',\n",
       " '(Junior) Marketing Analyst (all genders)',\n",
       " 'Referent Web Analyst (m/w/d) mit Fokus Marketing & Attribution',\n",
       " 'Performance Marketing Analyst (m/w/d)',\n",
       " 'Business Analyst (w/m/d) / Customer Support Center - Elternzeitvertretung befristet bis 31.10.2024',\n",
       " 'Senior Marketing Analyst (all genders)',\n",
       " 'Business Analyst - Low Code / Datenbanken / Schnittstellenentwicklung (m/w/d)',\n",
       " 'BAS Berlin Aviation Service GmbH sucht Mitarbeiter in der Passagierabfertigung - Check In Agent - (m/w/d) - ---In Teilzeit (60 Stunden) oder als Minijob ----',\n",
       " 'Business Analyst (m/w/d)',\n",
       " 'D365 F&O Business Analyst (SCM)',\n",
       " '(Senior) Marketing Analyst (d/f/m)',\n",
       " 'Senior Marketing Analyst (m/f/d)',\n",
       " '(Senior) Marketing Analyst (d/f/m)',\n",
       " 'Business Analyst (m/w/d)',\n",
       " 'Business Analyst:in / Data Migration Manager:in SAP S/4HANA',\n",
       " 'Lead Data Analyst – Marketing Strategy & Analytics (Bangkok-based, relocation provided)',\n",
       " 'Businessanalyst*in (m/w/div)',\n",
       " 'Business Analyst (m/w/d)-43_CL_27_2',\n",
       " 'Business Analyst Renewables (all genders)',\n",
       " 'BAS Berlin Aviation Service GmbH sucht Rampagenten in Voll- und Teilzeit (m/w/d)',\n",
       " '(Senior) Marketing Analyst (d/f/m)',\n",
       " 'Duales Studium BWL/Versicherung B.A.',\n",
       " 'BAS Berlin Aviation Service GmbH sucht Operationagents in Vollzeit (m/w/d)',\n",
       " 'Business Analyst Workflow Utility for Operational Planning (m/w/d)',\n",
       " 'Duales Studium BWL (B.A.) am Campus oder online',\n",
       " 'Business Analyst (M/W/D)',\n",
       " 'BUSINESS ANALYST - DUBAI, UAE',\n",
       " 'Business Analyst (f/m/d)',\n",
       " 'Duales Studium B.A. BWL Schwerpunkt Immobilienwirtschaft BUWOG Berlin 2024',\n",
       " 'Business Analyst (M/W/D)',\n",
       " 'Business Analyst (M/W/D)',\n",
       " 'Business Analyst (m/w/d)',\n",
       " 'Business Analyst (m/w/d)',\n",
       " 'Business Analyst (M/W/D)',\n",
       " 'Performance Marketing Manager SEA (m/w/d)',\n",
       " 'Market Analyst / Research Analyst (m/w/d)',\n",
       " 'Business Analyst (m/w/d) bei ProPotsdam',\n",
       " 'Senior Marketing Analyst (f/m/d)',\n",
       " 'Anforderungsmanager / Business Analyst',\n",
       " 'Sozial\\xadver\\xadsi\\xadche\\xadrungs\\xadfach\\xadan\\xadge\\xadstellte als Business Analyst (m/w/d) Schwerpunkt Telematik',\n",
       " 'Business Analyst (gn)',\n",
       " 'Business Analyst (m/w/d) für die EE Krankenhaus',\n",
       " 'Business Analyst Value Added Services (m/w/d)',\n",
       " 'Duales Studium BWL (B.A.) am Campus oder online',\n",
       " 'Duales Studium B.A. International Service Management (m/w/d) - Berlin',\n",
       " 'Dynamics 365 Business Analyst',\n",
       " 'Business Analyst (m/w/d) - 100% remote',\n",
       " 'Duales Studium B.A. BWL, mit Schwerpunkt Business Sales in Berlin (2024)',\n",
       " 'Business Analyst Insurance (m/w/d)',\n",
       " 'BAS Berlin Aviation Service GmbH sucht Mitarbeiter in der Passagierabfertigung - Check In Agent - (m/w/d) - ---In Teilzeit (80 Stunden) oder als Minijob ----',\n",
       " 'Duales Studium Gesundheitsmanagement (B.A.) am Campus oder online',\n",
       " 'BUSINESS ANALYST RETAIL PROCESSES*',\n",
       " 'Business Analystin Digitalisierung Netzausbau (m/w/d)',\n",
       " 'Berater Technology Business Analysis - Technology Transformation (w/m/d)',\n",
       " 'Business Analyst (m/w/d)',\n",
       " 'Duales Studium B.A. BWL, mit Schwerpunkt Digital Innovation in Berlin (2024)',\n",
       " 'Duales Studium E-Commerce (B.A.) am Campus oder online',\n",
       " 'Business Analyst Betriebsmanagement (w/m/d)',\n",
       " 'Business Analyst (m/w/d) Sachversicherungs- & Haftpflichtschäden in Berlin',\n",
       " 'Duales Studium Soziale Arbeit (B.A.) am Campus oder online',\n",
       " 'Business Analyst / Banking (m/w/d)',\n",
       " 'Duales Studium Tourismusmanagement (B.A.) am Campus oder online',\n",
       " 'Business Architect / Business Analyst Electricity Balancing (w/m/d)',\n",
       " 'Performance Marketing Manager SEA – Deutsch (m/w/d)',\n",
       " 'Duales Studium Gesundheitsmanagement (B.A.) am Campus oder online',\n",
       " 'Hungarian speaking Social Media Analyst (gn)',\n",
       " 'BAS Berlin Aviation Service GmbH sucht Mitarbeiter für die VIP und Business Lounge Betreuung (m/w/d)',\n",
       " 'Duales Studium Tourismusmanagement (B.A.) am Campus oder online',\n",
       " 'Business Analyst Datenmigration (all genders) für die adesso insurance solutions GmbH',\n",
       " 'Business Analyst (m/w/d)',\n",
       " 'Consultant / Business Analyst (Senior) bei findic (w|m|d)',\n",
       " 'Duales Studium Betriebswirtschaftslehre / Bank B.A. mit Fokus Vertrieb (m/w/d)',\n",
       " 'Business / Market Analyst (m/w/d)',\n",
       " 'Duales Studium (m/w/d) B.A. in der BWL / Immobilienwirtschaft',\n",
       " 'Business Analyst Schwerpunkt Military (m/w/d)',\n",
       " 'Duales Studium Soziale Arbeit (B.A.) am Campus oder online',\n",
       " 'Lead / Managing Consultant Technology Innovation (w/m/x)',\n",
       " 'Duales Studium Kindheitspädagogik (B.A.) am Campus oder online',\n",
       " 'Duales Studium Kindheitspädagogik (B.A.) am Campus oder online',\n",
       " 'Business Analyst (m/w/d) in einem spannenden Umfeld',\n",
       " 'Business Analyst (m/w/d) im Gesundheitswesen',\n",
       " 'Duales Studium Immobilienwirtschaft (B.A.) am Campus oder online',\n",
       " 'Business Analyst Requirements Engineering für Meldewesen (all genders) für die adesso insurance solutions GmbH',\n",
       " 'Duales Studium Immobilienwirtschaft (B.A.) am Campus oder online',\n",
       " 'German speaking Social Media Analyst (gn)',\n",
       " 'Praktikum (w/m/d) Business Research & Analysis',\n",
       " 'BAS Berlin Aviation Service GmbH sucht Follow Me Fahrer & GAT Mitarbeiter (m/w/d) in Vollzeit',\n",
       " 'BAS Berlin Aviation Service GmbH sucht Customer Service Representatives (m/w/d) in Voll- und Teilzeit',\n",
       " 'Duales Studium Mediendesign (B.A.) am Campus oder online',\n",
       " 'Senior Managing Consultant/Executive Technology Innovation (w/m/x)',\n",
       " 'Duales Studium Wirtschaftsprüfung (B.A.) 2024',\n",
       " 'Business Analyst/ Product Owner/Requirements Engineer (m/w/d)',\n",
       " 'Senior Data Analyst, Marketing/Measurement',\n",
       " 'Business Intelligence Data Analyst',\n",
       " 'Marketing Data Analyst (all genders)',\n",
       " 'Senior Data Analyst/BI Expert (all genders)',\n",
       " 'Game Data Analyst (f/m/d)',\n",
       " 'Lead Data Analyst',\n",
       " 'Data Analyst Power BI (m/w/d)',\n",
       " 'Business Data Analyst (w/m/d)',\n",
       " 'Business Intelligence Data Analyst',\n",
       " 'Senior Data Analyst (all genders) - Acquisition',\n",
       " 'Senior Marketing Data Analyst',\n",
       " 'Online Tracking Analyst (m/f/d) in Berlin, Deutschland',\n",
       " 'Commercial Insights Analyst (m/w/d)',\n",
       " 'Online Tracking Analyst (m/w/d) in Berlin, Deutschland',\n",
       " 'Berufseinsteiger / Absolvent / Junior Ingenieur / Planer TGA HLS (m/w/d) bei Generalplaner BA-20',\n",
       " 'Commercial Insights Analyst (m/w/d)',\n",
       " 'Projektingenieur Gebäude- und Haustechnik / TGA HLS (m/w/d) Generalplaner BA-23',\n",
       " 'Business Consultant Data Architecture und Data Analysis Supply Solutions (m/w/d)',\n",
       " 'Berufseinsteiger / Junior Projektingenieur / Fachplaner Elektrotechnik (m/w/d) BA-21',\n",
       " 'Senior Revenue Operations Analyst',\n",
       " 'Business Analyst Transmission Systeme (m/w/d)',\n",
       " 'Business-Analyst*in (m/w/i) – Vollzeit, unbefristet',\n",
       " 'Duales Studium Mediendesign (B.A.) am Campus oder online',\n",
       " 'Senior Business Analyst:in Digitalisierung Baumanagement',\n",
       " 'Consultant / Business Analyst / Projektmanager Life Sciences & Chemicals (w/m/d)',\n",
       " 'Techniker Heizungs-, Lüftungs-, Klimatechnik TGA als Bauleiter (m/w/d) BA-25',\n",
       " 'Ingenieur Fachplaner TGA Heizung u. Lüftung (m/w/d) Generalplaner BA-22',\n",
       " 'Werkstudent (m/w/d) Wissensmanagement mit Option BA oder MA-Thesis']"
      ]
     },
     "execution_count": 26,
     "metadata": {},
     "output_type": "execute_result"
    }
   ],
   "source": [
    "titlename"
   ]
  },
  {
   "cell_type": "code",
   "execution_count": 27,
   "id": "d13448e3",
   "metadata": {},
   "outputs": [
    {
     "data": {
      "text/plain": [
       "131"
      ]
     },
     "execution_count": 27,
     "metadata": {},
     "output_type": "execute_result"
    }
   ],
   "source": [
    "len(titlename)"
   ]
  },
  {
   "cell_type": "code",
   "execution_count": 28,
   "id": "1f87f6a3",
   "metadata": {},
   "outputs": [],
   "source": [
    "#Create dataframe for company name and title\n",
    "\n",
    "companyfinal=pd.DataFrame(companyname,columns=[\"company\"])\n",
    "titlefinal=pd.DataFrame(titlename,columns=[\"title\"])"
   ]
  },
  {
   "cell_type": "code",
   "execution_count": 29,
   "id": "ead96554",
   "metadata": {},
   "outputs": [],
   "source": [
    "#Join the two lists\n",
    "\n",
    "x=companyfinal.join(titlefinal)"
   ]
  },
  {
   "cell_type": "code",
   "execution_count": 30,
   "id": "b96df424",
   "metadata": {},
   "outputs": [
    {
     "data": {
      "text/html": [
       "<div>\n",
       "<style scoped>\n",
       "    .dataframe tbody tr th:only-of-type {\n",
       "        vertical-align: middle;\n",
       "    }\n",
       "\n",
       "    .dataframe tbody tr th {\n",
       "        vertical-align: top;\n",
       "    }\n",
       "\n",
       "    .dataframe thead th {\n",
       "        text-align: right;\n",
       "    }\n",
       "</style>\n",
       "<table border=\"1\" class=\"dataframe\">\n",
       "  <thead>\n",
       "    <tr style=\"text-align: right;\">\n",
       "      <th></th>\n",
       "      <th>company</th>\n",
       "      <th>title</th>\n",
       "    </tr>\n",
       "  </thead>\n",
       "  <tbody>\n",
       "    <tr>\n",
       "      <th>0</th>\n",
       "      <td>Lovehoney Group</td>\n",
       "      <td>Data Analyst, Consumer Marketing</td>\n",
       "    </tr>\n",
       "    <tr>\n",
       "      <th>1</th>\n",
       "      <td>Puffy</td>\n",
       "      <td>Senior Data Analyst (Get a 30% salary increase...</td>\n",
       "    </tr>\n",
       "    <tr>\n",
       "      <th>2</th>\n",
       "      <td>hello.de</td>\n",
       "      <td>Werkstudent/ Praktikant - Business Intelligenc...</td>\n",
       "    </tr>\n",
       "    <tr>\n",
       "      <th>3</th>\n",
       "      <td>Caseking GmbH</td>\n",
       "      <td>Junior Group Performance Marketing Analyst</td>\n",
       "    </tr>\n",
       "    <tr>\n",
       "      <th>4</th>\n",
       "      <td>Peak Ace AG</td>\n",
       "      <td>Digital Analyst (m/w/d)</td>\n",
       "    </tr>\n",
       "    <tr>\n",
       "      <th>...</th>\n",
       "      <td>...</td>\n",
       "      <td>...</td>\n",
       "    </tr>\n",
       "    <tr>\n",
       "      <th>126</th>\n",
       "      <td>Deutsche Bahn</td>\n",
       "      <td>Senior Business Analyst:in Digitalisierung Bau...</td>\n",
       "    </tr>\n",
       "    <tr>\n",
       "      <th>127</th>\n",
       "      <td>Capgemini</td>\n",
       "      <td>Consultant / Business Analyst / Projektmanager...</td>\n",
       "    </tr>\n",
       "    <tr>\n",
       "      <th>128</th>\n",
       "      <td>Ing.ges. BBP Bauconsulting GmbH</td>\n",
       "      <td>Techniker Heizungs-, Lüftungs-, Klimatechnik T...</td>\n",
       "    </tr>\n",
       "    <tr>\n",
       "      <th>129</th>\n",
       "      <td>Ing.ges. BBP Bauconsulting GmbH</td>\n",
       "      <td>Ingenieur Fachplaner TGA Heizung u. Lüftung (m...</td>\n",
       "    </tr>\n",
       "    <tr>\n",
       "      <th>130</th>\n",
       "      <td>Diehl Metall</td>\n",
       "      <td>Werkstudent (m/w/d) Wissensmanagement mit Opti...</td>\n",
       "    </tr>\n",
       "  </tbody>\n",
       "</table>\n",
       "<p>131 rows × 2 columns</p>\n",
       "</div>"
      ],
      "text/plain": [
       "                             company  \\\n",
       "0                    Lovehoney Group   \n",
       "1                              Puffy   \n",
       "2                           hello.de   \n",
       "3                      Caseking GmbH   \n",
       "4                        Peak Ace AG   \n",
       "..                               ...   \n",
       "126                    Deutsche Bahn   \n",
       "127                        Capgemini   \n",
       "128  Ing.ges. BBP Bauconsulting GmbH   \n",
       "129  Ing.ges. BBP Bauconsulting GmbH   \n",
       "130                     Diehl Metall   \n",
       "\n",
       "                                                 title  \n",
       "0                     Data Analyst, Consumer Marketing  \n",
       "1    Senior Data Analyst (Get a 30% salary increase...  \n",
       "2    Werkstudent/ Praktikant - Business Intelligenc...  \n",
       "3           Junior Group Performance Marketing Analyst  \n",
       "4                              Digital Analyst (m/w/d)  \n",
       "..                                                 ...  \n",
       "126  Senior Business Analyst:in Digitalisierung Bau...  \n",
       "127  Consultant / Business Analyst / Projektmanager...  \n",
       "128  Techniker Heizungs-, Lüftungs-, Klimatechnik T...  \n",
       "129  Ingenieur Fachplaner TGA Heizung u. Lüftung (m...  \n",
       "130  Werkstudent (m/w/d) Wissensmanagement mit Opti...  \n",
       "\n",
       "[131 rows x 2 columns]"
      ]
     },
     "execution_count": 30,
     "metadata": {},
     "output_type": "execute_result"
    }
   ],
   "source": [
    "x"
   ]
  },
  {
   "cell_type": "code",
   "execution_count": 31,
   "id": "88987405",
   "metadata": {},
   "outputs": [],
   "source": [
    "#Save file in your directory\n",
    "x.to_csv('linkedinjobs.csv')"
   ]
  },
  {
   "cell_type": "code",
   "execution_count": 32,
   "id": "04daa44c",
   "metadata": {},
   "outputs": [],
   "source": [
    "#Find job links and append it to a list\n",
    "jobList = driver.find_elements_by_class_name('base-card__full-link')\n",
    "hrefList = []\n",
    "for e in jobList:\n",
    "    hrefList.append(e.get_attribute('href'))"
   ]
  },
  {
   "cell_type": "code",
   "execution_count": 34,
   "id": "819c67e3",
   "metadata": {
    "scrolled": false
   },
   "outputs": [
    {
     "data": {
      "text/plain": [
       "['https://de.linkedin.com/jobs/view/data-analyst-consumer-marketing-at-lovehoney-group-3805098517?refId=64EJlqDpOUPnBAcu6lCtIA%3D%3D&trackingId=0HP9WfRGGJ2Gf2jFzvp2RA%3D%3D&position=1&pageNum=0&trk=public_jobs_jserp-result_search-card',\n",
       " 'https://de.linkedin.com/jobs/view/senior-data-analyst-get-a-30%25-salary-increase-pay-0%25-tax-at-puffy-3759029443?refId=64EJlqDpOUPnBAcu6lCtIA%3D%3D&trackingId=s1QKt3nQIF0vzZpHsx63pg%3D%3D&position=2&pageNum=0&trk=public_jobs_jserp-result_search-card',\n",
       " 'https://de.linkedin.com/jobs/view/werkstudent-praktikant-business-intelligence-reporting-business-analysis-at-hello-de-3751658783?refId=64EJlqDpOUPnBAcu6lCtIA%3D%3D&trackingId=MUJVUqcX0%2FcpBO91VvQU%2Fg%3D%3D&position=3&pageNum=0&trk=public_jobs_jserp-result_search-card',\n",
       " 'https://de.linkedin.com/jobs/view/junior-group-performance-marketing-analyst-at-caseking-gmbh-3805537070?refId=64EJlqDpOUPnBAcu6lCtIA%3D%3D&trackingId=zFrfd%2Fg9YtT4iFLxm9dRvw%3D%3D&position=4&pageNum=0&trk=public_jobs_jserp-result_search-card',\n",
       " 'https://de.linkedin.com/jobs/view/digital-analyst-m-w-d-at-peak-ace-ag-3809888907?refId=64EJlqDpOUPnBAcu6lCtIA%3D%3D&trackingId=%2BFy9m9Zdvih%2ByT6fguu%2Fzg%3D%3D&position=5&pageNum=0&trk=public_jobs_jserp-result_search-card',\n",
       " 'https://de.linkedin.com/jobs/view/junior-digital-analyst-m-w-d-at-peak-ace-ag-3797057707?refId=64EJlqDpOUPnBAcu6lCtIA%3D%3D&trackingId=jshQVyekWmhnbAw6qj9TeQ%3D%3D&position=6&pageNum=0&trk=public_jobs_jserp-result_search-card',\n",
       " 'https://de.linkedin.com/jobs/view/marketing-analyst-d-f-m-at-omio-3810369660?refId=64EJlqDpOUPnBAcu6lCtIA%3D%3D&trackingId=Lincf0DFOpy7tc6kn0k0%2BQ%3D%3D&position=7&pageNum=0&trk=public_jobs_jserp-result_search-card',\n",
       " 'https://de.linkedin.com/jobs/view/business-analyst-data-ai-life-sciences-w-m-d-at-capgemini-3760808449?refId=64EJlqDpOUPnBAcu6lCtIA%3D%3D&trackingId=O3oLa%2BOopYwTNkWL%2B4gzNQ%3D%3D&position=8&pageNum=0&trk=public_jobs_jserp-result_search-card',\n",
       " 'https://de.linkedin.com/jobs/view/senior-data-analyst-business-analytics-commercial-delivery-relocation-to-tallinn-at-bolt-3788102693?refId=64EJlqDpOUPnBAcu6lCtIA%3D%3D&trackingId=EFyiZUwAlxLn4nyqDxI6Xg%3D%3D&position=9&pageNum=0&trk=public_jobs_jserp-result_search-card',\n",
       " 'https://de.linkedin.com/jobs/view/marketing-analyst-m-f-d-at-aeyde-3804992804?refId=64EJlqDpOUPnBAcu6lCtIA%3D%3D&trackingId=Znw2P2JGw0%2BKGGPqBtDX%2Bg%3D%3D&position=10&pageNum=0&trk=public_jobs_jserp-result_search-card',\n",
       " 'https://de.linkedin.com/jobs/view/business-analyst-ecommerce-at-lovehoney-group-3790737966?refId=64EJlqDpOUPnBAcu6lCtIA%3D%3D&trackingId=4hRICxVYT4weP3vEn0KAJQ%3D%3D&position=11&pageNum=0&trk=public_jobs_jserp-result_search-card',\n",
       " 'https://de.linkedin.com/jobs/view/business-analyst-controller-e-commerce-m-w-d-at-igefa-e-commerce-gmbh-co-kg-3798384932?refId=64EJlqDpOUPnBAcu6lCtIA%3D%3D&trackingId=p01C92wK7NvN0fMH9hQvdg%3D%3D&position=12&pageNum=0&trk=public_jobs_jserp-result_search-card',\n",
       " 'https://de.linkedin.com/jobs/view/junior-marketing-analyst-all-genders-at-dci-digital-career-institute-3804386488?refId=64EJlqDpOUPnBAcu6lCtIA%3D%3D&trackingId=rQddOp5PcS99fyERsY71zQ%3D%3D&position=13&pageNum=0&trk=public_jobs_jserp-result_search-card',\n",
       " 'https://de.linkedin.com/jobs/view/referent-web-analyst-m-w-d-mit-fokus-marketing-attribution-at-tui-3746717080?refId=64EJlqDpOUPnBAcu6lCtIA%3D%3D&trackingId=4uj4bpnAJUyrQGvyV0aYLw%3D%3D&position=14&pageNum=0&trk=public_jobs_jserp-result_search-card',\n",
       " 'https://de.linkedin.com/jobs/view/performance-marketing-analyst-m-w-d-at-myne-3810025718?refId=64EJlqDpOUPnBAcu6lCtIA%3D%3D&trackingId=YKkOp1g8kU7YUlFanXEkyw%3D%3D&position=15&pageNum=0&trk=public_jobs_jserp-result_search-card',\n",
       " 'https://de.linkedin.com/jobs/view/business-analyst-w-m-d-customer-support-center-elternzeitvertretung-befristet-bis-31-10-2024-at-ikea-3800574507?refId=64EJlqDpOUPnBAcu6lCtIA%3D%3D&trackingId=ZZweQRJf4FcudadW4fR8FA%3D%3D&position=16&pageNum=0&trk=public_jobs_jserp-result_search-card',\n",
       " 'https://de.linkedin.com/jobs/view/senior-marketing-analyst-all-genders-at-flaconi-3621220046?refId=64EJlqDpOUPnBAcu6lCtIA%3D%3D&trackingId=3%2F%2BMX8wWREaAeNsGWS4YfA%3D%3D&position=17&pageNum=0&trk=public_jobs_jserp-result_search-card',\n",
       " 'https://de.linkedin.com/jobs/view/business-analyst-low-code-datenbanken-schnittstellenentwicklung-m-w-d-at-workwise-3806698402?refId=64EJlqDpOUPnBAcu6lCtIA%3D%3D&trackingId=KIpLo1aKySbbF6RJF%2FcHoA%3D%3D&position=18&pageNum=0&trk=public_jobs_jserp-result_search-card',\n",
       " 'https://de.linkedin.com/jobs/view/business-analyst-m-w-d-at-odoo-3808000895?refId=64EJlqDpOUPnBAcu6lCtIA%3D%3D&trackingId=tLXlxyttXAWHPG4DopNezQ%3D%3D&position=20&pageNum=0&trk=public_jobs_jserp-result_search-card',\n",
       " 'https://de.linkedin.com/jobs/view/d365-f-o-business-analyst-scm-at-interex-group-3805319911?refId=64EJlqDpOUPnBAcu6lCtIA%3D%3D&trackingId=ZZ%2F3lp36lUkaqXoHbiijBw%3D%3D&position=21&pageNum=0&trk=public_jobs_jserp-result_search-card',\n",
       " 'https://de.linkedin.com/jobs/view/senior-marketing-analyst-d-f-m-at-immoscout24-3750809855?refId=64EJlqDpOUPnBAcu6lCtIA%3D%3D&trackingId=BcooR%2F88SAo66Wvc13bHdg%3D%3D&position=22&pageNum=0&trk=public_jobs_jserp-result_search-card',\n",
       " 'https://de.linkedin.com/jobs/view/senior-marketing-analyst-m-f-d-at-contorion-3785684995?refId=64EJlqDpOUPnBAcu6lCtIA%3D%3D&trackingId=%2FHpEomf%2FPchFCiFNkYhLGQ%3D%3D&position=23&pageNum=0&trk=public_jobs_jserp-result_search-card',\n",
       " 'https://de.linkedin.com/jobs/view/senior-marketing-analyst-d-f-m-at-scout24-gruppe-3763571970?refId=64EJlqDpOUPnBAcu6lCtIA%3D%3D&trackingId=znpv1jXH9KWXDkgl7CSTLw%3D%3D&position=24&pageNum=0&trk=public_jobs_jserp-result_search-card',\n",
       " 'https://de.linkedin.com/jobs/view/business-analyst-m-w-d-at-mediamarktsaturn-3801293970?refId=64EJlqDpOUPnBAcu6lCtIA%3D%3D&trackingId=JZ2b5roJGy5DpFNQkiyVVA%3D%3D&position=25&pageNum=0&trk=public_jobs_jserp-result_search-card',\n",
       " 'https://de.linkedin.com/jobs/view/business-analyst-in-data-migration-manager-in-sap-s-4hana-at-deutsche-bahn-3802858957?refId=8%2FWTbww8iY4Pd%2BWlCGoAKw%3D%3D&trackingId=8I8ba4EMXVO3LpAPV02X6Q%3D%3D&position=1&pageNum=1&trk=public_jobs_jserp-result_search-card',\n",
       " 'https://de.linkedin.com/jobs/view/lead-data-analyst-%E2%80%93-marketing-strategy-analytics-bangkok-based-relocation-provided-at-agoda-3805449054?refId=8%2FWTbww8iY4Pd%2BWlCGoAKw%3D%3D&trackingId=Jem2lI5gkVuVkSHOc3BalA%3D%3D&position=2&pageNum=1&trk=public_jobs_jserp-result_search-card',\n",
       " 'https://de.linkedin.com/jobs/view/businessanalyst-in-m-w-div-at-deutsche-rentenversicherung-bund-3706794548?refId=8%2FWTbww8iY4Pd%2BWlCGoAKw%3D%3D&trackingId=HGrh335gIAN3pzsZ1EiG9Q%3D%3D&position=3&pageNum=1&trk=public_jobs_jserp-result_search-card',\n",
       " 'https://de.linkedin.com/jobs/view/business-analyst-m-w-d-43-cl-27-2-at-moyyn-3587529775?refId=8%2FWTbww8iY4Pd%2BWlCGoAKw%3D%3D&trackingId=wNL6ZKwddENXF3SwjRi9Iw%3D%3D&position=4&pageNum=1&trk=public_jobs_jserp-result_search-card',\n",
       " 'https://de.linkedin.com/jobs/view/business-analyst-renewables-all-genders-at-saxovent-smart-eco-investments-gmbh-3803170693?refId=8%2FWTbww8iY4Pd%2BWlCGoAKw%3D%3D&trackingId=4w5pMBnRnrKf6YZKxXnZ1Q%3D%3D&position=5&pageNum=1&trk=public_jobs_jserp-result_search-card',\n",
       " 'https://de.linkedin.com/jobs/view/senior-marketing-analyst-d-f-m-at-immoscout24-3767071344?refId=8%2FWTbww8iY4Pd%2BWlCGoAKw%3D%3D&trackingId=SsC4%2BBEjVi4xlnLvg41CJg%3D%3D&position=7&pageNum=1&trk=public_jobs_jserp-result_search-card',\n",
       " 'https://de.linkedin.com/jobs/view/duales-studium-bwl-versicherung-b-a-at-devk-versicherungen-3708928337?refId=8%2FWTbww8iY4Pd%2BWlCGoAKw%3D%3D&trackingId=yi3ljku9CuL%2B7Rie1dx9kw%3D%3D&position=8&pageNum=1&trk=public_jobs_jserp-result_search-card',\n",
       " 'https://de.linkedin.com/jobs/view/business-analyst-workflow-utility-for-operational-planning-m-w-d-at-freiberger-lebensmittel-gmbh-3735702336?refId=8%2FWTbww8iY4Pd%2BWlCGoAKw%3D%3D&trackingId=%2BRQU30TY%2F8qPUBEvsJCiHw%3D%3D&position=10&pageNum=1&trk=public_jobs_jserp-result_search-card',\n",
       " 'https://de.linkedin.com/jobs/view/duales-studium-bwl-b-a-am-campus-oder-online-at-iu-internationale-hochschule-3802373231?refId=8%2FWTbww8iY4Pd%2BWlCGoAKw%3D%3D&trackingId=v4wllJqRNU7tutxZVDb1pA%3D%3D&position=11&pageNum=1&trk=public_jobs_jserp-result_search-card',\n",
       " 'https://de.linkedin.com/jobs/view/business-analyst-m-w-d-at-cbtw-3810405715?refId=8%2FWTbww8iY4Pd%2BWlCGoAKw%3D%3D&trackingId=NRSZE92C6qsWO7hF3TdjAA%3D%3D&position=12&pageNum=1&trk=public_jobs_jserp-result_search-card',\n",
       " 'https://de.linkedin.com/jobs/view/business-analyst-dubai-uae-at-cobblestone-energy-3780712045?refId=8%2FWTbww8iY4Pd%2BWlCGoAKw%3D%3D&trackingId=ChWBXjW%2Ftqx2Am7MdkPlsQ%3D%3D&position=13&pageNum=1&trk=public_jobs_jserp-result_search-card',\n",
       " 'https://de.linkedin.com/jobs/view/business-analyst-f-m-d-at-verve-group-3810230113?refId=8%2FWTbww8iY4Pd%2BWlCGoAKw%3D%3D&trackingId=YU1bIjYQK2HxvkcZM1AN%2BA%3D%3D&position=14&pageNum=1&trk=public_jobs_jserp-result_search-card',\n",
       " 'https://de.linkedin.com/jobs/view/duales-studium-b-a-bwl-schwerpunkt-immobilienwirtschaft-buwog-berlin-2024-at-vonovia-3789141784?refId=8%2FWTbww8iY4Pd%2BWlCGoAKw%3D%3D&trackingId=cNf3MBJl6x7YMAx%2Fo0URIg%3D%3D&position=15&pageNum=1&trk=public_jobs_jserp-result_search-card',\n",
       " 'https://de.linkedin.com/jobs/view/business-analyst-m-w-d-at-cbtw-3802864062?refId=8%2FWTbww8iY4Pd%2BWlCGoAKw%3D%3D&trackingId=%2Brc%2FD%2Bgj0YiKcguK%2B0TOcQ%3D%3D&position=16&pageNum=1&trk=public_jobs_jserp-result_search-card',\n",
       " 'https://de.linkedin.com/jobs/view/business-analyst-m-w-d-at-cbtw-3802694525?refId=8%2FWTbww8iY4Pd%2BWlCGoAKw%3D%3D&trackingId=LBJ4WvIOm3wYbN88bEcknw%3D%3D&position=17&pageNum=1&trk=public_jobs_jserp-result_search-card',\n",
       " 'https://de.linkedin.com/jobs/view/business-analyst-m-w-d-at-init-ag-f%C3%BCr-digitale-kommunikation-3782262436?refId=8%2FWTbww8iY4Pd%2BWlCGoAKw%3D%3D&trackingId=BHqviw%2BKNy22eV0W0AnxHg%3D%3D&position=18&pageNum=1&trk=public_jobs_jserp-result_search-card',\n",
       " 'https://de.linkedin.com/jobs/view/business-analyst-m-w-d-at-init-ag-f%C3%BCr-digitale-kommunikation-3782265109?refId=8%2FWTbww8iY4Pd%2BWlCGoAKw%3D%3D&trackingId=cv36M6gFxcI36hj4ghHitA%3D%3D&position=19&pageNum=1&trk=public_jobs_jserp-result_search-card',\n",
       " 'https://de.linkedin.com/jobs/view/business-analyst-m-w-d-at-cbtw-3808861465?refId=8%2FWTbww8iY4Pd%2BWlCGoAKw%3D%3D&trackingId=hInfWLUKUN3Wjm%2Fgav3iOg%3D%3D&position=20&pageNum=1&trk=public_jobs_jserp-result_search-card',\n",
       " 'https://de.linkedin.com/jobs/view/performance-marketing-manager-sea-m-w-d-at-home24-se-3655539781?refId=8%2FWTbww8iY4Pd%2BWlCGoAKw%3D%3D&trackingId=U7gR2xhJ2FWH58YNkbwfEw%3D%3D&position=21&pageNum=1&trk=public_jobs_jserp-result_search-card',\n",
       " 'https://de.linkedin.com/jobs/view/market-analyst-research-analyst-m-w-d-at-engel-v%C3%B6lkers-commercial-berlin-3765626226?refId=8%2FWTbww8iY4Pd%2BWlCGoAKw%3D%3D&trackingId=ehbci%2B2XwxafH%2FknOUFXLA%3D%3D&position=22&pageNum=1&trk=public_jobs_jserp-result_search-card',\n",
       " 'https://de.linkedin.com/jobs/view/business-analyst-m-w-d-bei-propotsdam-at-interim-group-3803801300?refId=8%2FWTbww8iY4Pd%2BWlCGoAKw%3D%3D&trackingId=8ZEiJzrxkqDF3jj9D5%2Fjkw%3D%3D&position=23&pageNum=1&trk=public_jobs_jserp-result_search-card',\n",
       " 'https://de.linkedin.com/jobs/view/senior-marketing-analyst-f-m-d-at-gotphoto-com-fotograf-de-3731197233?refId=8%2FWTbww8iY4Pd%2BWlCGoAKw%3D%3D&trackingId=KQxZiV6TjhqRN4IvRRqVgw%3D%3D&position=24&pageNum=1&trk=public_jobs_jserp-result_search-card',\n",
       " 'https://de.linkedin.com/jobs/view/anforderungsmanager-business-analyst-at-halian-3809329256?refId=8%2FWTbww8iY4Pd%2BWlCGoAKw%3D%3D&trackingId=6kKDlNrNsdr924Ny2YdhrA%3D%3D&position=25&pageNum=1&trk=public_jobs_jserp-result_search-card',\n",
       " 'https://de.linkedin.com/jobs/view/sozial%C2%ADver%C2%ADsi%C2%ADche%C2%ADrungs%C2%ADfach%C2%ADan%C2%ADge%C2%ADstellte-als-business-analyst-m-w-d-schwerpunkt-telematik-at-aok-systems-gmbh-3781587384?refId=hXf1eUc3AyiCGivJvdkDgQ%3D%3D&trackingId=mz1fn%2FnvjEMJxSO4DqjwbA%3D%3D&position=1&pageNum=2&trk=public_jobs_jserp-result_search-card',\n",
       " 'https://de.linkedin.com/jobs/view/business-analyst-gn-at-powercloud-3808478620?refId=hXf1eUc3AyiCGivJvdkDgQ%3D%3D&trackingId=Tvclz87SOFCugKJFoqTDEg%3D%3D&position=2&pageNum=2&trk=public_jobs_jserp-result_search-card',\n",
       " 'https://de.linkedin.com/jobs/view/business-analyst-m-w-d-f%C3%BCr-die-ee-krankenhaus-at-aok-systems-gmbh-3783797735?refId=hXf1eUc3AyiCGivJvdkDgQ%3D%3D&trackingId=nZ1J9FG9RmDWetH2ctDu8A%3D%3D&position=3&pageNum=2&trk=public_jobs_jserp-result_search-card',\n",
       " 'https://de.linkedin.com/jobs/view/business-analyst-value-added-services-m-w-d-at-verivox-gmbh-3808136547?refId=hXf1eUc3AyiCGivJvdkDgQ%3D%3D&trackingId=xHoyzOm7BfCjm8JKKgIaXg%3D%3D&position=4&pageNum=2&trk=public_jobs_jserp-result_search-card',\n",
       " 'https://de.linkedin.com/jobs/view/duales-studium-bwl-b-a-am-campus-oder-online-at-iu-internationale-hochschule-3802370742?refId=hXf1eUc3AyiCGivJvdkDgQ%3D%3D&trackingId=PsYDx70dCLQN4%2B4pnGlgDA%3D%3D&position=5&pageNum=2&trk=public_jobs_jserp-result_search-card',\n",
       " 'https://de.linkedin.com/jobs/view/duales-studium-b-a-international-service-management-m-w-d-berlin-at-tesla-3735044548?refId=hXf1eUc3AyiCGivJvdkDgQ%3D%3D&trackingId=ezeItLFinW8WBJ2xCpz%2BcA%3D%3D&position=6&pageNum=2&trk=public_jobs_jserp-result_search-card',\n",
       " 'https://de.linkedin.com/jobs/view/dynamics-365-business-analyst-at-digitall-3731258981?refId=hXf1eUc3AyiCGivJvdkDgQ%3D%3D&trackingId=Y0qqyuinUubnRWj2QKQH4A%3D%3D&position=7&pageNum=2&trk=public_jobs_jserp-result_search-card',\n",
       " 'https://de.linkedin.com/jobs/view/business-analyst-m-w-d-100%25-remote-at-publicplan-gmbh-3801936372?refId=hXf1eUc3AyiCGivJvdkDgQ%3D%3D&trackingId=t3%2Fu28eO%2BH2YguByR3QM%2Fg%3D%3D&position=8&pageNum=2&trk=public_jobs_jserp-result_search-card',\n",
       " 'https://de.linkedin.com/jobs/view/duales-studium-b-a-bwl-mit-schwerpunkt-business-sales-in-berlin-2024-at-vodafone-3717095440?refId=hXf1eUc3AyiCGivJvdkDgQ%3D%3D&trackingId=9GR%2BtVfpaqysyLawqMGshA%3D%3D&position=9&pageNum=2&trk=public_jobs_jserp-result_search-card',\n",
       " 'https://de.linkedin.com/jobs/view/business-analyst-insurance-m-w-d-at-verivox-gmbh-3808135578?refId=hXf1eUc3AyiCGivJvdkDgQ%3D%3D&trackingId=KYkaQT7BOYZ21GFboQBpoA%3D%3D&position=10&pageNum=2&trk=public_jobs_jserp-result_search-card',\n",
       " 'https://de.linkedin.com/jobs/view/bas-berlin-aviation-service-gmbh-sucht-mitarbeiter-in-der-passagierabfertigung-check-in-agent-m-w-d-in-teilzeit-80-stunden-oder-als-minijob-at-gas-german-aviation-service-3734090133?refId=hXf1eUc3AyiCGivJvdkDgQ%3D%3D&trackingId=H5A5hSTvLaWrOV%2BS3JyVcA%3D%3D&position=11&pageNum=2&trk=public_jobs_jserp-result_search-card',\n",
       " 'https://de.linkedin.com/jobs/view/duales-studium-gesundheitsmanagement-b-a-am-campus-oder-online-at-iu-internationale-hochschule-3802374017?refId=hXf1eUc3AyiCGivJvdkDgQ%3D%3D&trackingId=oEpZWCEHRfXLY9wQUCkKeA%3D%3D&position=12&pageNum=2&trk=public_jobs_jserp-result_search-card',\n",
       " 'https://de.linkedin.com/jobs/view/business-analyst-retail-processes-at-new-yorker-3777563631?refId=hXf1eUc3AyiCGivJvdkDgQ%3D%3D&trackingId=iQ3Tby1vjbjXIu0N7PH6PQ%3D%3D&position=13&pageNum=2&trk=public_jobs_jserp-result_search-card',\n",
       " 'https://de.linkedin.com/jobs/view/business-analystin-digitalisierung-netzausbau-m-w-d-at-50hertz-transmission-gmbh-3800269580?refId=hXf1eUc3AyiCGivJvdkDgQ%3D%3D&trackingId=iXPIuqyjJ7iGGAmr0%2BjOjQ%3D%3D&position=14&pageNum=2&trk=public_jobs_jserp-result_search-card',\n",
       " 'https://de.linkedin.com/jobs/view/berater-technology-business-analysis-technology-transformation-w-m-d-at-ey-3706663482?refId=hXf1eUc3AyiCGivJvdkDgQ%3D%3D&trackingId=BtINLtZPjpGFjQvtXgr1OA%3D%3D&position=15&pageNum=2&trk=public_jobs_jserp-result_search-card',\n",
       " 'https://de.linkedin.com/jobs/view/duales-studium-b-a-bwl-mit-schwerpunkt-digital-innovation-in-berlin-2024-at-vodafone-3717099303?refId=hXf1eUc3AyiCGivJvdkDgQ%3D%3D&trackingId=kO8EYogsdQfSe1cMjVEoeQ%3D%3D&position=17&pageNum=2&trk=public_jobs_jserp-result_search-card',\n",
       " 'https://de.linkedin.com/jobs/view/duales-studium-e-commerce-b-a-am-campus-oder-online-at-iu-internationale-hochschule-3802361980?refId=hXf1eUc3AyiCGivJvdkDgQ%3D%3D&trackingId=QX7EuXLsx8%2FrQjFNYJMvLA%3D%3D&position=18&pageNum=2&trk=public_jobs_jserp-result_search-card',\n",
       " 'https://de.linkedin.com/jobs/view/business-analyst-betriebsmanagement-w-m-d-at-gasag-gruppe-3789436306?refId=hXf1eUc3AyiCGivJvdkDgQ%3D%3D&trackingId=EjokSAaIIxVny75CFbVSgQ%3D%3D&position=19&pageNum=2&trk=public_jobs_jserp-result_search-card',\n",
       " 'https://de.linkedin.com/jobs/view/business-analyst-m-w-d-sachversicherungs-haftpflichtsch%C3%A4den-in-berlin-at-bavariadirekt-3810081267?refId=hXf1eUc3AyiCGivJvdkDgQ%3D%3D&trackingId=9zeYnclBVZP7NPuiCEoD4Q%3D%3D&position=20&pageNum=2&trk=public_jobs_jserp-result_search-card',\n",
       " 'https://de.linkedin.com/jobs/view/duales-studium-soziale-arbeit-b-a-am-campus-oder-online-at-iu-internationale-hochschule-3802362951?refId=hXf1eUc3AyiCGivJvdkDgQ%3D%3D&trackingId=v6QfOmSiSeumRkVjfcJ8%2FQ%3D%3D&position=21&pageNum=2&trk=public_jobs_jserp-result_search-card',\n",
       " 'https://de.linkedin.com/jobs/view/business-analyst-banking-m-w-d-at-msg-for-banking-ag-3574443223?refId=hXf1eUc3AyiCGivJvdkDgQ%3D%3D&trackingId=iGeCH%2FMSgoB6JGV2RTcNJQ%3D%3D&position=22&pageNum=2&trk=public_jobs_jserp-result_search-card',\n",
       " 'https://de.linkedin.com/jobs/view/duales-studium-tourismusmanagement-b-a-am-campus-oder-online-at-iu-internationale-hochschule-3802366622?refId=hXf1eUc3AyiCGivJvdkDgQ%3D%3D&trackingId=iFKpyVGOdHuUZIiwlOXj%2FA%3D%3D&position=23&pageNum=2&trk=public_jobs_jserp-result_search-card',\n",
       " 'https://de.linkedin.com/jobs/view/business-architect-business-analyst-electricity-balancing-w-m-d-at-50hertz-transmission-gmbh-3807140331?refId=PSqHggtEo3Tmc0vYPbd1Hw%3D%3D&trackingId=xEa0vQVyMssQQRpxWcVKIw%3D%3D&position=1&pageNum=3&trk=public_jobs_jserp-result_search-card',\n",
       " 'https://de.linkedin.com/jobs/view/performance-marketing-manager-sea-%E2%80%93-deutsch-m-w-d-at-home24-se-3790657658?refId=PSqHggtEo3Tmc0vYPbd1Hw%3D%3D&trackingId=5BPAZIMGrHCexvO2McdVbg%3D%3D&position=2&pageNum=3&trk=public_jobs_jserp-result_search-card',\n",
       " 'https://de.linkedin.com/jobs/view/duales-studium-gesundheitsmanagement-b-a-am-campus-oder-online-at-iu-internationale-hochschule-3802368740?refId=PSqHggtEo3Tmc0vYPbd1Hw%3D%3D&trackingId=pmWEyiUV8gLA0r%2B3ZMAn5g%3D%3D&position=3&pageNum=3&trk=public_jobs_jserp-result_search-card',\n",
       " 'https://de.linkedin.com/jobs/view/hungarian-speaking-social-media-analyst-gn-at-grafton-recruitment-3779009009?refId=PSqHggtEo3Tmc0vYPbd1Hw%3D%3D&trackingId=IBq8b5bqKz1zAGuYd4kKvw%3D%3D&position=4&pageNum=3&trk=public_jobs_jserp-result_search-card',\n",
       " 'https://de.linkedin.com/jobs/view/bas-berlin-aviation-service-gmbh-sucht-mitarbeiter-f%C3%BCr-die-vip-und-business-lounge-betreuung-m-w-d-at-gas-german-aviation-service-3734086694?refId=PSqHggtEo3Tmc0vYPbd1Hw%3D%3D&trackingId=XmfSii8Xzg0e3kzs5jtWEg%3D%3D&position=5&pageNum=3&trk=public_jobs_jserp-result_search-card',\n",
       " 'https://de.linkedin.com/jobs/view/duales-studium-tourismusmanagement-b-a-am-campus-oder-online-at-iu-internationale-hochschule-3802370183?refId=PSqHggtEo3Tmc0vYPbd1Hw%3D%3D&trackingId=VPBBOkOFzrBKuR1pdrgkYA%3D%3D&position=6&pageNum=3&trk=public_jobs_jserp-result_search-card',\n",
       " 'https://de.linkedin.com/jobs/view/business-analyst-datenmigration-all-genders-f%C3%BCr-die-adesso-insurance-solutions-gmbh-at-adesso-insurance-solutions-gmbh-3741942819?refId=PSqHggtEo3Tmc0vYPbd1Hw%3D%3D&trackingId=be2qhHiSulaxMGYFfkVaSg%3D%3D&position=7&pageNum=3&trk=public_jobs_jserp-result_search-card',\n",
       " 'https://de.linkedin.com/jobs/view/business-analyst-m-w-d-at-michael-page-3792822749?refId=PSqHggtEo3Tmc0vYPbd1Hw%3D%3D&trackingId=a%2FaIhHx6yGSQq6fj5MlgAQ%3D%3D&position=8&pageNum=3&trk=public_jobs_jserp-result_search-card',\n",
       " 'https://de.linkedin.com/jobs/view/consultant-business-analyst-senior-bei-findic-w-m-d-at-zeb-consulting-3378324316?refId=PSqHggtEo3Tmc0vYPbd1Hw%3D%3D&trackingId=LQjgPor3H7%2BoP6gf8JofDg%3D%3D&position=9&pageNum=3&trk=public_jobs_jserp-result_search-card',\n",
       " 'https://de.linkedin.com/jobs/view/duales-studium-betriebswirtschaftslehre-bank-b-a-mit-fokus-vertrieb-m-w-d-at-interhyp-gruppe-3746301416?refId=PSqHggtEo3Tmc0vYPbd1Hw%3D%3D&trackingId=ztIJE98%2BmLrVp5K37rQAVQ%3D%3D&position=10&pageNum=3&trk=public_jobs_jserp-result_search-card',\n",
       " 'https://de.linkedin.com/jobs/view/business-market-analyst-m-w-d-at-abl-solutions-gmbh-3726545406?refId=PSqHggtEo3Tmc0vYPbd1Hw%3D%3D&trackingId=fasW3iTOsknh%2BGnYaevxVQ%3D%3D&position=11&pageNum=3&trk=public_jobs_jserp-result_search-card',\n",
       " 'https://de.linkedin.com/jobs/view/duales-studium-m-w-d-b-a-in-der-bwl-immobilienwirtschaft-at-jll-3790348646?refId=PSqHggtEo3Tmc0vYPbd1Hw%3D%3D&trackingId=GoW%2FmW9%2FG8btJz5BYlv6sg%3D%3D&position=12&pageNum=3&trk=public_jobs_jserp-result_search-card',\n",
       " 'https://de.linkedin.com/jobs/view/business-analyst-schwerpunkt-military-m-w-d-at-bwi-gmbh-3805599625?refId=PSqHggtEo3Tmc0vYPbd1Hw%3D%3D&trackingId=Osv4gSufK%2BbxkovrIGYmiQ%3D%3D&position=13&pageNum=3&trk=public_jobs_jserp-result_search-card',\n",
       " 'https://de.linkedin.com/jobs/view/duales-studium-soziale-arbeit-b-a-am-campus-oder-online-at-iu-internationale-hochschule-3802367345?refId=PSqHggtEo3Tmc0vYPbd1Hw%3D%3D&trackingId=Ojwd%2BDXpGCyxFNQCxHAnYg%3D%3D&position=14&pageNum=3&trk=public_jobs_jserp-result_search-card',\n",
       " 'https://de.linkedin.com/jobs/view/lead-managing-consultant-technology-innovation-w-m-x-at-ntt-data-dach-3670313500?refId=PSqHggtEo3Tmc0vYPbd1Hw%3D%3D&trackingId=okly8iZ0%2BQoe5L5k5H8kew%3D%3D&position=15&pageNum=3&trk=public_jobs_jserp-result_search-card',\n",
       " 'https://de.linkedin.com/jobs/view/duales-studium-kindheitsp%C3%A4dagogik-b-a-am-campus-oder-online-at-iu-internationale-hochschule-3802372051?refId=PSqHggtEo3Tmc0vYPbd1Hw%3D%3D&trackingId=OFEsAlQPZ%2F5THyRSzDmrDg%3D%3D&position=16&pageNum=3&trk=public_jobs_jserp-result_search-card',\n",
       " 'https://de.linkedin.com/jobs/view/duales-studium-kindheitsp%C3%A4dagogik-b-a-am-campus-oder-online-at-iu-internationale-hochschule-3802368748?refId=PSqHggtEo3Tmc0vYPbd1Hw%3D%3D&trackingId=mCi09obqURgoYIMUD9w8wg%3D%3D&position=17&pageNum=3&trk=public_jobs_jserp-result_search-card',\n",
       " 'https://de.linkedin.com/jobs/view/business-analyst-m-w-d-in-einem-spannenden-umfeld-at-amadeus-fire-3805618758?refId=PSqHggtEo3Tmc0vYPbd1Hw%3D%3D&trackingId=XASz%2BGNOTd2kfOKBR2TYCQ%3D%3D&position=18&pageNum=3&trk=public_jobs_jserp-result_search-card',\n",
       " 'https://de.linkedin.com/jobs/view/business-analyst-m-w-d-im-gesundheitswesen-at-amadeus-fire-3806142685?refId=PSqHggtEo3Tmc0vYPbd1Hw%3D%3D&trackingId=nNiO7oIjrLposuvJZYNmQg%3D%3D&position=19&pageNum=3&trk=public_jobs_jserp-result_search-card',\n",
       " 'https://de.linkedin.com/jobs/view/duales-studium-immobilienwirtschaft-b-a-am-campus-oder-online-at-iu-internationale-hochschule-3802371435?refId=PSqHggtEo3Tmc0vYPbd1Hw%3D%3D&trackingId=oPAPe8%2BeqXmIW0XhszVF1A%3D%3D&position=20&pageNum=3&trk=public_jobs_jserp-result_search-card',\n",
       " 'https://de.linkedin.com/jobs/view/business-analyst-requirements-engineering-f%C3%BCr-meldewesen-all-genders-f%C3%BCr-die-adesso-insurance-solutions-gmbh-at-adesso-insurance-solutions-gmbh-3806797167?refId=PSqHggtEo3Tmc0vYPbd1Hw%3D%3D&trackingId=hnp7zWDD6%2FGO%2Bqvo62QlPg%3D%3D&position=21&pageNum=3&trk=public_jobs_jserp-result_search-card',\n",
       " 'https://de.linkedin.com/jobs/view/duales-studium-immobilienwirtschaft-b-a-am-campus-oder-online-at-iu-internationale-hochschule-3802369451?refId=PSqHggtEo3Tmc0vYPbd1Hw%3D%3D&trackingId=4iKPdH%2F52ZorQWaHWe42DA%3D%3D&position=22&pageNum=3&trk=public_jobs_jserp-result_search-card',\n",
       " 'https://de.linkedin.com/jobs/view/german-speaking-social-media-analyst-gn-at-grafton-recruitment-3797835380?refId=PSqHggtEo3Tmc0vYPbd1Hw%3D%3D&trackingId=v746UNHaXEy6VcN%2F4m9OUg%3D%3D&position=23&pageNum=3&trk=public_jobs_jserp-result_search-card',\n",
       " 'https://de.linkedin.com/jobs/view/praktikum-w-m-d-business-research-analysis-at-kpmg-deutschland-3743896490?refId=PSqHggtEo3Tmc0vYPbd1Hw%3D%3D&trackingId=Zosms%2FrHbwKmvi%2FSHce9Xw%3D%3D&position=24&pageNum=3&trk=public_jobs_jserp-result_search-card',\n",
       " 'https://de.linkedin.com/jobs/view/duales-studium-mediendesign-b-a-am-campus-oder-online-at-iu-internationale-hochschule-3802370420?refId=ENcT3dlk%2FKN8I%2BTI4%2BAfMw%3D%3D&trackingId=gGPsJdMpKYLk%2F4EqA%2F2sjQ%3D%3D&position=2&pageNum=4&trk=public_jobs_jserp-result_search-card',\n",
       " 'https://de.linkedin.com/jobs/view/senior-managing-consultant-executive-technology-innovation-w-m-x-at-ntt-data-dach-3700519276?refId=ENcT3dlk%2FKN8I%2BTI4%2BAfMw%3D%3D&trackingId=GYhwCLuU6EyYBPtMvGtW4g%3D%3D&position=3&pageNum=4&trk=public_jobs_jserp-result_search-card',\n",
       " 'https://de.linkedin.com/jobs/view/duales-studium-wirtschaftspr%C3%BCfung-b-a-2024-at-deloitte-3672941432?refId=ENcT3dlk%2FKN8I%2BTI4%2BAfMw%3D%3D&trackingId=gF4oVfUQ5qA5MxLcnavtWQ%3D%3D&position=4&pageNum=4&trk=public_jobs_jserp-result_search-card',\n",
       " 'https://de.linkedin.com/jobs/view/business-analyst-product-owner-requirements-engineer-m-w-d-at-cgi-3779594869?refId=ENcT3dlk%2FKN8I%2BTI4%2BAfMw%3D%3D&trackingId=qIPviHmcNRweTNMMdzqX6g%3D%3D&position=5&pageNum=4&trk=public_jobs_jserp-result_search-card',\n",
       " 'https://de.linkedin.com/jobs/view/senior-data-analyst-marketing-measurement-at-getyourguide-3804912475?refId=ENcT3dlk%2FKN8I%2BTI4%2BAfMw%3D%3D&trackingId=4f%2BZRbab0GeawFA4vtcELA%3D%3D&position=6&pageNum=4&trk=public_jobs_jserp-result_search-card',\n",
       " 'https://de.linkedin.com/jobs/view/business-intelligence-data-analyst-at-avea-life-3788415709?refId=ENcT3dlk%2FKN8I%2BTI4%2BAfMw%3D%3D&trackingId=59b8JMvZ7qiXe5YtHXtejQ%3D%3D&position=7&pageNum=4&trk=public_jobs_jserp-result_search-card',\n",
       " 'https://de.linkedin.com/jobs/view/marketing-data-analyst-all-genders-at-justplay-3764333555?refId=ENcT3dlk%2FKN8I%2BTI4%2BAfMw%3D%3D&trackingId=szOxFIcSJJWHvbZd0MFz9Q%3D%3D&position=8&pageNum=4&trk=public_jobs_jserp-result_search-card',\n",
       " 'https://de.linkedin.com/jobs/view/senior-data-analyst-bi-expert-all-genders-at-primal-state-performance-gmbh-3784021378?refId=ENcT3dlk%2FKN8I%2BTI4%2BAfMw%3D%3D&trackingId=plEdFbC814fbpveP%2FSAlmw%3D%3D&position=9&pageNum=4&trk=public_jobs_jserp-result_search-card',\n",
       " 'https://de.linkedin.com/jobs/view/game-data-analyst-f-m-d-at-kolibri-games-3764345446?refId=ENcT3dlk%2FKN8I%2BTI4%2BAfMw%3D%3D&trackingId=1EMcA%2FwbwtZ4X0W9JIOqZQ%3D%3D&position=10&pageNum=4&trk=public_jobs_jserp-result_search-card',\n",
       " 'https://de.linkedin.com/jobs/view/lead-data-analyst-at-linearity-3794346698?refId=ENcT3dlk%2FKN8I%2BTI4%2BAfMw%3D%3D&trackingId=QgA2kydsOqgM%2BLXaTWqnTw%3D%3D&position=11&pageNum=4&trk=public_jobs_jserp-result_search-card',\n",
       " 'https://de.linkedin.com/jobs/view/data-analyst-power-bi-m-w-d-at-vielfaltmen%C3%BC-gmbh-3809446176?refId=ENcT3dlk%2FKN8I%2BTI4%2BAfMw%3D%3D&trackingId=vX2%2BSjq0EPKf4aEfUHHGfA%3D%3D&position=12&pageNum=4&trk=public_jobs_jserp-result_search-card',\n",
       " 'https://de.linkedin.com/jobs/view/business-data-analyst-w-m-d-at-robert-half-3792176156?refId=ENcT3dlk%2FKN8I%2BTI4%2BAfMw%3D%3D&trackingId=uKG8rNLdbt8rBT8m78mbpw%3D%3D&position=13&pageNum=4&trk=public_jobs_jserp-result_search-card',\n",
       " 'https://de.linkedin.com/jobs/view/business-intelligence-data-analyst-at-maximon-the-longevity-company-builder-3788415610?refId=ENcT3dlk%2FKN8I%2BTI4%2BAfMw%3D%3D&trackingId=oZTfMVl97kQTLfi8W5%2Bl6g%3D%3D&position=14&pageNum=4&trk=public_jobs_jserp-result_search-card',\n",
       " 'https://de.linkedin.com/jobs/view/senior-data-analyst-all-genders-acquisition-at-urban-sports-club-3805604918?refId=ENcT3dlk%2FKN8I%2BTI4%2BAfMw%3D%3D&trackingId=5jBE9TMpD81QqD3EEgOeWw%3D%3D&position=15&pageNum=4&trk=public_jobs_jserp-result_search-card',\n",
       " 'https://de.linkedin.com/jobs/view/senior-marketing-data-analyst-at-airhelp-3795124343?refId=ENcT3dlk%2FKN8I%2BTI4%2BAfMw%3D%3D&trackingId=ajIPjVj%2Bm%2BMepP63carpPA%3D%3D&position=16&pageNum=4&trk=public_jobs_jserp-result_search-card',\n",
       " 'https://de.linkedin.com/jobs/view/online-tracking-analyst-m-f-d-in-berlin-deutschland-at-energy-jobline-3799626999?refId=ENcT3dlk%2FKN8I%2BTI4%2BAfMw%3D%3D&trackingId=qR%2FsoR093Lf8%2BCCObqT05A%3D%3D&position=17&pageNum=4&trk=public_jobs_jserp-result_search-card',\n",
       " 'https://de.linkedin.com/jobs/view/commercial-insights-analyst-m-w-d-at-dr-kade-health-care-2726484396?refId=ENcT3dlk%2FKN8I%2BTI4%2BAfMw%3D%3D&trackingId=Xmdax26j7LK1ZY42j5%2B9Tg%3D%3D&position=18&pageNum=4&trk=public_jobs_jserp-result_search-card',\n",
       " 'https://de.linkedin.com/jobs/view/online-tracking-analyst-m-w-d-in-berlin-deutschland-at-energy-jobline-3796119627?refId=ENcT3dlk%2FKN8I%2BTI4%2BAfMw%3D%3D&trackingId=W7jhYjMDig8wdmN7X8CBmg%3D%3D&position=19&pageNum=4&trk=public_jobs_jserp-result_search-card',\n",
       " 'https://de.linkedin.com/jobs/view/business-consultant-data-architecture-und-data-analysis-supply-solutions-m-w-d-at-msg-3683743082?refId=ENcT3dlk%2FKN8I%2BTI4%2BAfMw%3D%3D&trackingId=BxaRh%2FCG2u3iHbW9vOCRGA%3D%3D&position=23&pageNum=4&trk=public_jobs_jserp-result_search-card',\n",
       " 'https://de.linkedin.com/jobs/view/senior-revenue-operations-analyst-at-channelengine-3808228352?refId=ENcT3dlk%2FKN8I%2BTI4%2BAfMw%3D%3D&trackingId=A6M%2B2%2FEAcrv8%2BqE4daprwQ%3D%3D&position=25&pageNum=4&trk=public_jobs_jserp-result_search-card',\n",
       " 'https://de.linkedin.com/jobs/view/business-analyst-transmission-systeme-m-w-d-at-bwi-gmbh-3789846466?refId=6w%2BjiWVNOTLwjOGjtbO5uw%3D%3D&trackingId=7yNOgiBk15CKjepoa1kYlw%3D%3D&position=1&pageNum=5&trk=public_jobs_jserp-result_search-card',\n",
       " 'https://de.linkedin.com/jobs/view/business-analyst-in-m-w-i-%E2%80%93-vollzeit-unbefristet-at-propotsdam-gmbh-3634373503?refId=6w%2BjiWVNOTLwjOGjtbO5uw%3D%3D&trackingId=%2Fp2v%2Fe8nTd4E%2BbMgi%2Fydnw%3D%3D&position=2&pageNum=5&trk=public_jobs_jserp-result_search-card',\n",
       " 'https://de.linkedin.com/jobs/view/duales-studium-mediendesign-b-a-am-campus-oder-online-at-iu-internationale-hochschule-3802365879?refId=6w%2BjiWVNOTLwjOGjtbO5uw%3D%3D&trackingId=nXlRkMKOTWb4amp7%2BH6Bqw%3D%3D&position=3&pageNum=5&trk=public_jobs_jserp-result_search-card',\n",
       " 'https://de.linkedin.com/jobs/view/senior-business-analyst-in-digitalisierung-baumanagement-at-deutsche-bahn-3764599958?refId=6w%2BjiWVNOTLwjOGjtbO5uw%3D%3D&trackingId=8aHF8KHgRtE%2BKlNO6U0xiQ%3D%3D&position=4&pageNum=5&trk=public_jobs_jserp-result_search-card',\n",
       " 'https://de.linkedin.com/jobs/view/consultant-business-analyst-projektmanager-life-sciences-chemicals-w-m-d-at-capgemini-3616300102?refId=6w%2BjiWVNOTLwjOGjtbO5uw%3D%3D&trackingId=GklPNdgGlT0GcbZkURdisg%3D%3D&position=5&pageNum=5&trk=public_jobs_jserp-result_search-card',\n",
       " 'https://de.linkedin.com/jobs/view/werkstudent-m-w-d-wissensmanagement-mit-option-ba-oder-ma-thesis-at-diehl-metall-3642100758?refId=6w%2BjiWVNOTLwjOGjtbO5uw%3D%3D&trackingId=u%2F%2F2y7h%2Ffs9ga20T0SMlXg%3D%3D&position=8&pageNum=5&trk=public_jobs_jserp-result_search-card']"
      ]
     },
     "execution_count": 34,
     "metadata": {},
     "output_type": "execute_result"
    }
   ],
   "source": [
    "hrefList"
   ]
  },
  {
   "cell_type": "code",
   "execution_count": 35,
   "id": "45adf4ae",
   "metadata": {},
   "outputs": [],
   "source": [
    "linklist=pd.DataFrame(hrefList,columns=[\"joblinks\"])"
   ]
  },
  {
   "cell_type": "code",
   "execution_count": 36,
   "id": "2294a6a6",
   "metadata": {},
   "outputs": [],
   "source": [
    "linklist.to_csv('linkedinjobslinks.csv')"
   ]
  },
  {
   "cell_type": "code",
   "execution_count": 38,
   "id": "e4bcaa30",
   "metadata": {},
   "outputs": [
    {
     "ename": "NoSuchElementException",
     "evalue": "Message: no such element: Unable to locate element: {\"method\":\"css selector\",\"selector\":\".artdeco-pagination__pages\"}\n  (Session info: chrome=120.0.6099.225)\n",
     "output_type": "error",
     "traceback": [
      "\u001b[1;31m---------------------------------------------------------------------------\u001b[0m",
      "\u001b[1;31mNoSuchElementException\u001b[0m                    Traceback (most recent call last)",
      "Input \u001b[1;32mIn [38]\u001b[0m, in \u001b[0;36m<cell line: 33>\u001b[1;34m()\u001b[0m\n\u001b[0;32m     30\u001b[0m driver\u001b[38;5;241m.\u001b[39mget(url1)\n\u001b[0;32m     32\u001b[0m \u001b[38;5;66;03m# Find the total number of pages\u001b[39;00m\n\u001b[1;32m---> 33\u001b[0m total_pages \u001b[38;5;241m=\u001b[39m \u001b[38;5;28mint\u001b[39m(\u001b[43mdriver\u001b[49m\u001b[38;5;241;43m.\u001b[39;49m\u001b[43mfind_element_by_class_name\u001b[49m\u001b[43m(\u001b[49m\u001b[38;5;124;43m'\u001b[39;49m\u001b[38;5;124;43martdeco-pagination__pages\u001b[39;49m\u001b[38;5;124;43m'\u001b[39;49m\u001b[43m)\u001b[49m\u001b[38;5;241m.\u001b[39mtext\u001b[38;5;241m.\u001b[39msplit()[\u001b[38;5;241m-\u001b[39m\u001b[38;5;241m1\u001b[39m])\n\u001b[0;32m     35\u001b[0m \u001b[38;5;66;03m# Loop through each page\u001b[39;00m\n\u001b[0;32m     36\u001b[0m \u001b[38;5;28;01mfor\u001b[39;00m current_page \u001b[38;5;129;01min\u001b[39;00m \u001b[38;5;28mrange\u001b[39m(\u001b[38;5;241m1\u001b[39m, total_pages \u001b[38;5;241m+\u001b[39m \u001b[38;5;241m1\u001b[39m):\n\u001b[0;32m     37\u001b[0m     \u001b[38;5;66;03m# Scrape data from the current page\u001b[39;00m\n",
      "File \u001b[1;32m~\\anaconda3\\lib\\site-packages\\selenium\\webdriver\\remote\\webdriver.py:564\u001b[0m, in \u001b[0;36mWebDriver.find_element_by_class_name\u001b[1;34m(self, name)\u001b[0m\n\u001b[0;32m    548\u001b[0m \u001b[38;5;28;01mdef\u001b[39;00m \u001b[38;5;21mfind_element_by_class_name\u001b[39m(\u001b[38;5;28mself\u001b[39m, name):\n\u001b[0;32m    549\u001b[0m     \u001b[38;5;124;03m\"\"\"\u001b[39;00m\n\u001b[0;32m    550\u001b[0m \u001b[38;5;124;03m    Finds an element by class name.\u001b[39;00m\n\u001b[0;32m    551\u001b[0m \n\u001b[1;32m   (...)\u001b[0m\n\u001b[0;32m    562\u001b[0m \u001b[38;5;124;03m        element = driver.find_element_by_class_name('foo')\u001b[39;00m\n\u001b[0;32m    563\u001b[0m \u001b[38;5;124;03m    \"\"\"\u001b[39;00m\n\u001b[1;32m--> 564\u001b[0m     \u001b[38;5;28;01mreturn\u001b[39;00m \u001b[38;5;28;43mself\u001b[39;49m\u001b[38;5;241;43m.\u001b[39;49m\u001b[43mfind_element\u001b[49m\u001b[43m(\u001b[49m\u001b[43mby\u001b[49m\u001b[38;5;241;43m=\u001b[39;49m\u001b[43mBy\u001b[49m\u001b[38;5;241;43m.\u001b[39;49m\u001b[43mCLASS_NAME\u001b[49m\u001b[43m,\u001b[49m\u001b[43m \u001b[49m\u001b[43mvalue\u001b[49m\u001b[38;5;241;43m=\u001b[39;49m\u001b[43mname\u001b[49m\u001b[43m)\u001b[49m\n",
      "File \u001b[1;32m~\\anaconda3\\lib\\site-packages\\selenium\\webdriver\\remote\\webdriver.py:976\u001b[0m, in \u001b[0;36mWebDriver.find_element\u001b[1;34m(self, by, value)\u001b[0m\n\u001b[0;32m    974\u001b[0m         by \u001b[38;5;241m=\u001b[39m By\u001b[38;5;241m.\u001b[39mCSS_SELECTOR\n\u001b[0;32m    975\u001b[0m         value \u001b[38;5;241m=\u001b[39m \u001b[38;5;124m'\u001b[39m\u001b[38;5;124m[name=\u001b[39m\u001b[38;5;124m\"\u001b[39m\u001b[38;5;132;01m%s\u001b[39;00m\u001b[38;5;124m\"\u001b[39m\u001b[38;5;124m]\u001b[39m\u001b[38;5;124m'\u001b[39m \u001b[38;5;241m%\u001b[39m value\n\u001b[1;32m--> 976\u001b[0m \u001b[38;5;28;01mreturn\u001b[39;00m \u001b[38;5;28;43mself\u001b[39;49m\u001b[38;5;241;43m.\u001b[39;49m\u001b[43mexecute\u001b[49m\u001b[43m(\u001b[49m\u001b[43mCommand\u001b[49m\u001b[38;5;241;43m.\u001b[39;49m\u001b[43mFIND_ELEMENT\u001b[49m\u001b[43m,\u001b[49m\u001b[43m \u001b[49m\u001b[43m{\u001b[49m\n\u001b[0;32m    977\u001b[0m \u001b[43m    \u001b[49m\u001b[38;5;124;43m'\u001b[39;49m\u001b[38;5;124;43musing\u001b[39;49m\u001b[38;5;124;43m'\u001b[39;49m\u001b[43m:\u001b[49m\u001b[43m \u001b[49m\u001b[43mby\u001b[49m\u001b[43m,\u001b[49m\n\u001b[0;32m    978\u001b[0m \u001b[43m    \u001b[49m\u001b[38;5;124;43m'\u001b[39;49m\u001b[38;5;124;43mvalue\u001b[39;49m\u001b[38;5;124;43m'\u001b[39;49m\u001b[43m:\u001b[49m\u001b[43m \u001b[49m\u001b[43mvalue\u001b[49m\u001b[43m}\u001b[49m\u001b[43m)\u001b[49m[\u001b[38;5;124m'\u001b[39m\u001b[38;5;124mvalue\u001b[39m\u001b[38;5;124m'\u001b[39m]\n",
      "File \u001b[1;32m~\\anaconda3\\lib\\site-packages\\selenium\\webdriver\\remote\\webdriver.py:321\u001b[0m, in \u001b[0;36mWebDriver.execute\u001b[1;34m(self, driver_command, params)\u001b[0m\n\u001b[0;32m    319\u001b[0m response \u001b[38;5;241m=\u001b[39m \u001b[38;5;28mself\u001b[39m\u001b[38;5;241m.\u001b[39mcommand_executor\u001b[38;5;241m.\u001b[39mexecute(driver_command, params)\n\u001b[0;32m    320\u001b[0m \u001b[38;5;28;01mif\u001b[39;00m response:\n\u001b[1;32m--> 321\u001b[0m     \u001b[38;5;28;43mself\u001b[39;49m\u001b[38;5;241;43m.\u001b[39;49m\u001b[43merror_handler\u001b[49m\u001b[38;5;241;43m.\u001b[39;49m\u001b[43mcheck_response\u001b[49m\u001b[43m(\u001b[49m\u001b[43mresponse\u001b[49m\u001b[43m)\u001b[49m\n\u001b[0;32m    322\u001b[0m     response[\u001b[38;5;124m'\u001b[39m\u001b[38;5;124mvalue\u001b[39m\u001b[38;5;124m'\u001b[39m] \u001b[38;5;241m=\u001b[39m \u001b[38;5;28mself\u001b[39m\u001b[38;5;241m.\u001b[39m_unwrap_value(\n\u001b[0;32m    323\u001b[0m         response\u001b[38;5;241m.\u001b[39mget(\u001b[38;5;124m'\u001b[39m\u001b[38;5;124mvalue\u001b[39m\u001b[38;5;124m'\u001b[39m, \u001b[38;5;28;01mNone\u001b[39;00m))\n\u001b[0;32m    324\u001b[0m     \u001b[38;5;28;01mreturn\u001b[39;00m response\n",
      "File \u001b[1;32m~\\anaconda3\\lib\\site-packages\\selenium\\webdriver\\remote\\errorhandler.py:242\u001b[0m, in \u001b[0;36mErrorHandler.check_response\u001b[1;34m(self, response)\u001b[0m\n\u001b[0;32m    240\u001b[0m         alert_text \u001b[38;5;241m=\u001b[39m value[\u001b[38;5;124m'\u001b[39m\u001b[38;5;124malert\u001b[39m\u001b[38;5;124m'\u001b[39m]\u001b[38;5;241m.\u001b[39mget(\u001b[38;5;124m'\u001b[39m\u001b[38;5;124mtext\u001b[39m\u001b[38;5;124m'\u001b[39m)\n\u001b[0;32m    241\u001b[0m     \u001b[38;5;28;01mraise\u001b[39;00m exception_class(message, screen, stacktrace, alert_text)\n\u001b[1;32m--> 242\u001b[0m \u001b[38;5;28;01mraise\u001b[39;00m exception_class(message, screen, stacktrace)\n",
      "\u001b[1;31mNoSuchElementException\u001b[0m: Message: no such element: Unable to locate element: {\"method\":\"css selector\",\"selector\":\".artdeco-pagination__pages\"}\n  (Session info: chrome=120.0.6099.225)\n"
     ]
    }
   ],
   "source": [
    "# ... (existing code)\n",
    "\n",
    "# Define a function to scrape job listings from the current page\n",
    "def scrape_current_page():\n",
    "    # Extract company names and job titles\n",
    "    # ... (existing code for extracting company names and job titles)\n",
    "\n",
    "    # Create DataFrames\n",
    "    companyfinal = pd.DataFrame(companyname, columns=[\"company\"])\n",
    "    titlefinal = pd.DataFrame(titlename, columns=[\"title\"])\n",
    "\n",
    "    # Join the two DataFrames\n",
    "    x = companyfinal.join(titlefinal)\n",
    "\n",
    "    # Save to CSV\n",
    "    x.to_csv('linkedinjobs_page{}.csv'.format(current_page), index=False)\n",
    "\n",
    "    # Extract job links and save to CSV\n",
    "    jobList = driver.find_elements_by_class_name('base-card__full-link')\n",
    "    hrefList = [e.get_attribute('href') for e in jobList]\n",
    "    linklist = pd.DataFrame(hrefList, columns=[\"joblinks\"])\n",
    "    linklist.to_csv('linkedinjobslinks_page{}.csv'.format(current_page), index=False)\n",
    "\n",
    "# Define the initial URL\n",
    "url1 = 'https://www.linkedin.com/jobs/search?keywords=Marketing%20Data%20Analyst&location=Berlin%2C%20Berlin%2C%20Germany&geoId=106967730&trk=public_jobs_jobs-search-bar_search-submit&position=1&pageNum=0'\n",
    "\n",
    "# Load the web driver and get the initial URL\n",
    "driver = webdriver.Chrome(executable_path=r'C:\\Users\\Admin\\Downloads\\chromedriver-win64\\chromedriver-win64\\chromedriver.exe')\n",
    "driver.implicitly_wait(10)\n",
    "driver.get(url1)\n",
    "\n",
    "# Find the total number of pages\n",
    "total_pages = int(driver.find_element_by_class_name('hidden-nested-link').text.split()[-1])\n",
    "\n",
    "# Loop through each page\n",
    "for current_page in range(1, total_pages + 1):\n",
    "    # Scrape data from the current page\n",
    "    scrape_current_page()\n",
    "\n",
    "    # Navigate to the next page if it's not the last page\n",
    "    if current_page < total_pages:\n",
    "        next_button = driver.find_element_by_css_selector('button[aria-label=\"Next\"]')\n",
    "        next_button.click()\n",
    "        time.sleep(5)  # Add a sleep to allow the page to load (adjust as needed)\n",
    "\n",
    "# Quit the WebDriver\n",
    "driver.quit()\n"
   ]
  },
  {
   "cell_type": "code",
   "execution_count": null,
   "id": "61d23dfa",
   "metadata": {},
   "outputs": [],
   "source": []
  }
 ],
 "metadata": {
  "kernelspec": {
   "display_name": "Python 3 (ipykernel)",
   "language": "python",
   "name": "python3"
  },
  "language_info": {
   "codemirror_mode": {
    "name": "ipython",
    "version": 3
   },
   "file_extension": ".py",
   "mimetype": "text/x-python",
   "name": "python",
   "nbconvert_exporter": "python",
   "pygments_lexer": "ipython3",
   "version": "3.9.12"
  }
 },
 "nbformat": 4,
 "nbformat_minor": 5
}
